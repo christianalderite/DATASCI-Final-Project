{
 "cells": [
  {
   "cell_type": "code",
   "execution_count": 1,
   "metadata": {},
   "outputs": [],
   "source": [
    "import requests\n",
    "from bs4 import BeautifulSoup \n",
    "import pandas as pd\n",
    "import numpy as py\n",
    "import matplotlib.pyplot as plot\n",
    "import seaborn as sns\n",
    "from matplotlib import rc\n",
    "\n",
    "import matplotlib.mlab as mlab"
   ]
  },
  {
   "cell_type": "code",
   "execution_count": null,
   "metadata": {},
   "outputs": [],
   "source": [
    "dfMain = pd.read_csv('main.csv', low_memory=False);\n",
    "dfMem = pd.read_csv('hpq_mem.csv', low_memory=False);\n",
    "\n",
    "#Loads 'main.csv' and 'hpq_mem.csv'"
   ]
  },
  {
   "cell_type": "code",
   "execution_count": null,
   "metadata": {},
   "outputs": [],
   "source": [
    "dfMain = dfMain.filter(['mainid','brgy']);\n",
    "dfMem = dfMem.filter(['mainid','educal']);\n",
    "\n",
    "#Filters the two dataframes to show only the relevant columns"
   ]
  },
  {
   "cell_type": "code",
   "execution_count": null,
   "metadata": {},
   "outputs": [],
   "source": [
    "dfMainMem = pd.merge(dfMain, dfMem, left_on='mainid', right_on='mainid', how='left');\n",
    "\n",
    "# Joins dfMain with dfMem using matching mainids\n",
    "dfMainMem"
   ]
  },
  {
   "cell_type": "code",
   "execution_count": null,
   "metadata": {},
   "outputs": [],
   "source": [
    "dfMainMem['family_size'] = dfMainMem.mainid.map(dfMainMem.mainid.value_counts())\n",
    "# Determines the family size based on the number of responses.\n",
    "# Educal is the highest educational attainment of each family member.\n",
    "# We were forced to assume that family size equals VALID educal responses count because there is no data about family size.\n",
    "\n",
    "dfMainMem"
   ]
  },
  {
   "cell_type": "code",
   "execution_count": null,
   "metadata": {},
   "outputs": [],
   "source": [
    "dfMainMem = dfMainMem.loc[dfMainMem.educal < 38.0] \n",
    "# Removes responses with less than 32 (first year college) as educational attainment\n",
    "# It automatically drops NaN and other invalid responses as well\n",
    "\n",
    "dfMainMem = dfMainMem.loc[dfMainMem.educal > 31]\n",
    "# Removes responses with greater than 37(PhD) as educational attainment\n",
    "# It automatically drops NaN and other invalid responses as well\n",
    "\n",
    "# ASSUMPTION: Invalid responses are automatically considered to not be in the 1st College to PhD range.\n",
    "\n",
    "dfMainMem['above_PS'] = dfMainMem.mainid.map(dfMainMem.mainid.value_counts())\n",
    "# Determines the number of current college takers and college grads based on the number of educal responses in the filtered data.\n",
    "# Educal is the highest educational attainment of each family members.\n",
    "\n",
    "dfMainMem\n"
   ]
  },
  {
   "cell_type": "code",
   "execution_count": null,
   "metadata": {},
   "outputs": [],
   "source": [
    "dfMainMem = dfMainMem.drop(columns=['educal'])\n",
    "# Drops the educal column which we dont have use for anymore\n",
    "\n",
    "dfMainMem.drop_duplicates()\n",
    "# Drop duplicate entries borne out of having many responses with 32 or more as educational attainment.\n",
    "\n",
    "dfMainMem['score'] = dfMainMem['above_PS'] / dfMainMem['family_size']\n",
    "# Creates a new column score which keeps the score of each family's literacy rate \n",
    "# by taking the ratio of college takers and grads over the total family size based on VALID educal responses.\n",
    "\n",
    "dfMainMem"
   ]
  },
  {
   "cell_type": "code",
   "execution_count": null,
   "metadata": {},
   "outputs": [],
   "source": [
    "arrayBrgyScores = dfMainMem.groupby('brgy')['score'].mean()\n",
    "# Groups the families by brgy and takes the average of their family literacy.\n",
    "# Output is an array, not a dataframe.\n",
    "\n",
    "arrayBrgyScores\n"
   ]
  },
  {
   "cell_type": "code",
   "execution_count": null,
   "metadata": {},
   "outputs": [],
   "source": [
    "dfBrgy1 = dfMainMem.loc[dfMainMem.brgy == 1]\n",
    "dfBrgy1\n",
    "\n",
    "# Just to check if output is correct, Brgy 1 has 3 respondents with a total of 1.7 score, therefore averaging on 0.566667"
   ]
  },
  {
   "cell_type": "code",
   "execution_count": null,
   "metadata": {
    "scrolled": true
   },
   "outputs": [],
   "source": [
    "arrayBrgyScores.plot(figsize=(20, 10), kind='bar', grid=True, align='center', width=0.5, stacked=True)\n",
    "plot.legend()\n",
    "plot.show()\n"
   ]
  },
  {
   "cell_type": "markdown",
   "metadata": {},
   "source": [
    "# Calamity Prep Score 1: The Mean College Literacy Rate of Each Baranggay\n",
    "\n",
    "Assumptions: \n",
    "1. Based on a study by INSERT AUTHORS AND LINK, having college students and college grads in the family increases their chance of surviving calamities. And so we used EDUCAL (educational attainment) as a means of scoring the average post-secondary literacy of each family in each baranggay.\n",
    "    \n",
    "2. We assumed that the number of responses per family represents the total size of the family and so used it as the denominator to which we compared the number of college grads and students.\n",
    "\n",
    "3. We assumed that invalid responses such as '300' and NaN values are automatically not within range of the 1st year college (32) to PhD (37). We did not drop these responses as it will cause an inaccurate family size. We tried dropping them but a 5 member family just became 2 because 3 of them did not properly answer and still had 100% literacy because the only 2 valid responses are within college and PhD range.\n",
    "    \n",
    "Methodology:\n",
    "1. Created a filtered dataframe copy of the original Main.CSV file that only contains the relevant variables for Score 1.\n",
    "\n",
    "2. Determined family size ('family_size') by counting the number of responses of with the same 'mainid' value.\n",
    "\n",
    "3. Determined college students and grads ('above_PS') by counting the number of responses of with 32 to 37 as EDUCAL values.\n",
    "\n",
    "4. Determined the ratio of 'above_PS' over 'family_size' to get each family's college literacy rate.\n",
    "\n",
    "5. Grouped the families by baranggay and then computed for the mean college literacy rate of each baranggay."
   ]
  },
  {
   "cell_type": "code",
   "execution_count": null,
   "metadata": {},
   "outputs": [],
   "source": [
    "dfScore1 = pd.DataFrame(arrayBrgyScores);\n",
    "dfScore1.to_csv('BrgyScore1.csv', encoding='utf-8')\n",
    "\n",
    "# The computed means for each baranggay's family college literacy rate is saved onto a CSV file for future use."
   ]
  }
 ],
 "metadata": {
  "kernelspec": {
   "display_name": "Python 3",
   "language": "python",
   "name": "python3"
  },
  "language_info": {
   "codemirror_mode": {
    "name": "ipython",
    "version": 3
   },
   "file_extension": ".py",
   "mimetype": "text/x-python",
   "name": "python",
   "nbconvert_exporter": "python",
   "pygments_lexer": "ipython3",
   "version": "3.7.0"
  }
 },
 "nbformat": 4,
 "nbformat_minor": 2
}
