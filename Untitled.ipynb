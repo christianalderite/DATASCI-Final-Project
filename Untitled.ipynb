{
 "cells": [
  {
   "cell_type": "code",
   "execution_count": 1,
   "metadata": {},
   "outputs": [],
   "source": [
    "import requests\n",
    "from bs4 import BeautifulSoup \n",
    "import pandas as pd\n",
    "import numpy as py\n",
    "import matplotlib.pyplot as plot\n",
    "import seaborn as sns\n",
    "from matplotlib import rc\n",
    "\n",
    "import matplotlib.mlab as mlab"
   ]
  },
  {
   "cell_type": "code",
   "execution_count": 2,
   "metadata": {},
   "outputs": [],
   "source": [
    "dfMain = pd.read_csv('main.csv', low_memory=False);"
   ]
  },
  {
   "cell_type": "code",
   "execution_count": 3,
   "metadata": {},
   "outputs": [
    {
     "data": {
      "text/plain": [
       "0        False\n",
       "1        False\n",
       "2        False\n",
       "3        False\n",
       "4        False\n",
       "5        False\n",
       "6        False\n",
       "7        False\n",
       "8        False\n",
       "9        False\n",
       "10       False\n",
       "11       False\n",
       "12       False\n",
       "13       False\n",
       "14       False\n",
       "15       False\n",
       "16       False\n",
       "17       False\n",
       "18       False\n",
       "19       False\n",
       "20       False\n",
       "21       False\n",
       "22       False\n",
       "23       False\n",
       "24       False\n",
       "25       False\n",
       "26       False\n",
       "27       False\n",
       "28       False\n",
       "29       False\n",
       "         ...  \n",
       "59536    False\n",
       "59537    False\n",
       "59538    False\n",
       "59539    False\n",
       "59540    False\n",
       "59541    False\n",
       "59542    False\n",
       "59543    False\n",
       "59544    False\n",
       "59545    False\n",
       "59546    False\n",
       "59547    False\n",
       "59548    False\n",
       "59549    False\n",
       "59550    False\n",
       "59551    False\n",
       "59552    False\n",
       "59553    False\n",
       "59554    False\n",
       "59555    False\n",
       "59556    False\n",
       "59557    False\n",
       "59558    False\n",
       "59559    False\n",
       "59560    False\n",
       "59561    False\n",
       "59562    False\n",
       "59563    False\n",
       "59564    False\n",
       "59565    False\n",
       "Name: mainid, Length: 59566, dtype: bool"
      ]
     },
     "execution_count": 3,
     "metadata": {},
     "output_type": "execute_result"
    }
   ],
   "source": [
    "dfMain.mainid.duplicated()"
   ]
  },
  {
   "cell_type": "code",
   "execution_count": 4,
   "metadata": {},
   "outputs": [
    {
     "data": {
      "text/plain": [
       "0        1061066\n",
       "1         555683\n",
       "2        8611889\n",
       "3         299398\n",
       "4         136921\n",
       "5        3842267\n",
       "6         899855\n",
       "7         235953\n",
       "8        1591438\n",
       "9        1053432\n",
       "10       1112848\n",
       "11       2728227\n",
       "12         98326\n",
       "13       1955060\n",
       "14       1352565\n",
       "15       7317935\n",
       "16       7320712\n",
       "17        129550\n",
       "18       7320094\n",
       "19       1348436\n",
       "20        194394\n",
       "21       7320805\n",
       "22       2555876\n",
       "23       2880362\n",
       "24       1355289\n",
       "25       3166204\n",
       "26       7320136\n",
       "27        899860\n",
       "28        990548\n",
       "29        234239\n",
       "          ...   \n",
       "59536    4057712\n",
       "59537    3483181\n",
       "59538    2324874\n",
       "59539     160554\n",
       "59540    3646113\n",
       "59541    3889213\n",
       "59542    3648868\n",
       "59543     151199\n",
       "59544    3027315\n",
       "59545    3356417\n",
       "59546    1554169\n",
       "59547    1368909\n",
       "59548    1521428\n",
       "59549    1525475\n",
       "59550    2765090\n",
       "59551    1987450\n",
       "59552    1779354\n",
       "59553    2710602\n",
       "59554    1106960\n",
       "59555     899178\n",
       "59556     699764\n",
       "59557     699743\n",
       "59558     874688\n",
       "59559     839247\n",
       "59560    2073527\n",
       "59561    3335279\n",
       "59562     578279\n",
       "59563     486916\n",
       "59564    3026228\n",
       "59565    1765944\n",
       "Name: mainid, Length: 59566, dtype: int64"
      ]
     },
     "execution_count": 4,
     "metadata": {},
     "output_type": "execute_result"
    }
   ],
   "source": [
    "dfMain['mainid']"
   ]
  },
  {
   "cell_type": "code",
   "execution_count": null,
   "metadata": {},
   "outputs": [],
   "source": []
  }
 ],
 "metadata": {
  "kernelspec": {
   "display_name": "Python 3",
   "language": "python",
   "name": "python3"
  },
  "language_info": {
   "codemirror_mode": {
    "name": "ipython",
    "version": 3
   },
   "file_extension": ".py",
   "mimetype": "text/x-python",
   "name": "python",
   "nbconvert_exporter": "python",
   "pygments_lexer": "ipython3",
   "version": "3.7.0"
  }
 },
 "nbformat": 4,
 "nbformat_minor": 2
}
